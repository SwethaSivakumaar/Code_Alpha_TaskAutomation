{
 "cells": [
  {
   "cell_type": "code",
   "execution_count": 1,
   "id": "6fbb6af8-8a3f-4202-9afe-b52adf987c33",
   "metadata": {},
   "outputs": [
    {
     "name": "stdout",
     "output_type": "stream",
     "text": [
      "Skipping /tmp (Not Found)\n",
      "Error cleaning C:\\Windows\\Temp: [WinError 5] Access is denied: 'C:\\\\Windows\\\\Temp'\n",
      "Deleted: C:\\Users\\SWETHA\\AppData\\Local\\Temp\\.ses\n",
      "Error cleaning C:\\Users\\SWETHA\\AppData\\Local\\Temp: [WinError 32] The process cannot access the file because it is being used by another process: 'C:\\\\Users\\\\SWETHA\\\\AppData\\\\Local\\\\Temp\\\\0b4f43b6-2ad8-4582-bf25-5b8105ab9277.tmp'\n",
      "Cleanup complete!\n"
     ]
    }
   ],
   "source": [
    "import os\n",
    "import shutil\n",
    "\n",
    "# Define directories to clean\n",
    "TEMP_FOLDERS = [\n",
    "    \"/tmp\",               # Linux/macOS temp folder\n",
    "    \"C:\\\\Windows\\\\Temp\",  # Windows temp folder\n",
    "    os.path.expanduser(\"~\") + \"\\\\AppData\\\\Local\\\\Temp\"  # User temp folder (Windows)\n",
    "]\n",
    "\n",
    "def delete_temp_files():\n",
    "    \"\"\"Deletes temporary files from defined directories.\"\"\"\n",
    "    for folder in TEMP_FOLDERS:\n",
    "        if os.path.exists(folder):\n",
    "            try:\n",
    "                for filename in os.listdir(folder):\n",
    "                    file_path = os.path.join(folder, filename)\n",
    "                    \n",
    "                    if os.path.isfile(file_path) or os.path.islink(file_path):\n",
    "                        os.unlink(file_path)  # Remove file\n",
    "                    elif os.path.isdir(file_path):\n",
    "                        shutil.rmtree(file_path)  # Remove directory\n",
    "                        \n",
    "                    print(f\"Deleted: {file_path}\")\n",
    "            except Exception as e:\n",
    "                print(f\"Error cleaning {folder}: {e}\")\n",
    "        else:\n",
    "            print(f\"Skipping {folder} (Not Found)\")\n",
    "\n",
    "if __name__ == \"__main__\":\n",
    "    delete_temp_files()\n",
    "    print(\"Cleanup complete!\")"
   ]
  },
  {
   "cell_type": "code",
   "execution_count": null,
   "id": "edd70bae-1a36-4a6f-a7c8-2196e8501f0a",
   "metadata": {},
   "outputs": [],
   "source": []
  }
 ],
 "metadata": {
  "kernelspec": {
   "display_name": "Python 3 (ipykernel)",
   "language": "python",
   "name": "python3"
  },
  "language_info": {
   "codemirror_mode": {
    "name": "ipython",
    "version": 3
   },
   "file_extension": ".py",
   "mimetype": "text/x-python",
   "name": "python",
   "nbconvert_exporter": "python",
   "pygments_lexer": "ipython3",
   "version": "3.12.4"
  }
 },
 "nbformat": 4,
 "nbformat_minor": 5
}
